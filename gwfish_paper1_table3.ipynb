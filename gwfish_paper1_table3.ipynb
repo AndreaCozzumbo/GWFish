{
 "cells": [
  {
   "cell_type": "code",
   "execution_count": 1,
   "metadata": {},
   "outputs": [],
   "source": [
    "# suppress warning outputs for using lal in jupuyter notebook\n",
    "import warnings \n",
    "warnings.filterwarnings(\"ignore\", \"Wswiglal-redir-stdio\")\n",
    "\n",
    "import GWFish.modules as gw\n",
    "import numpy as np\n",
    "import pandas as pd\n",
    "import os"
   ]
  },
  {
   "cell_type": "code",
   "execution_count": 2,
   "metadata": {},
   "outputs": [],
   "source": [
    "param_files = ['5plus10', '15plus30', '30plus60', '30plus60_with_5plus10']"
   ]
  },
  {
   "cell_type": "code",
   "execution_count": 3,
   "metadata": {},
   "outputs": [],
   "source": [
    "fisher_params = ['ra', 'dec', 'psi', 'theta_jn', 'luminosity_distance', 'mass_1_source', 'mass_2_source']\n",
    "ConfigDet = os.path.join('GWFish/paper_yamls/paper_yaml_10Hz.yaml')"
   ]
  },
  {
   "cell_type": "code",
   "execution_count": 4,
   "metadata": {},
   "outputs": [
    {
     "name": "stderr",
     "output_type": "stream",
     "text": [
      "100%|██████████| 1/1 [00:03<00:00,  3.81s/it]\n",
      "100%|██████████| 1/1 [00:03<00:00,  3.54s/it]\n",
      "100%|██████████| 1/1 [00:03<00:00,  3.45s/it]\n",
      "100%|██████████| 1/1 [00:03<00:00,  3.59s/it]\n"
     ]
    }
   ],
   "source": [
    "results = {}\n",
    "\n",
    "for param_file in param_files:\n",
    "    my_params = pd.read_hdf('injections/injections_paper/' + 'CBC_pop_' + param_file + '.hdf5')\n",
    "    \n",
    "    detected, network_snr, parameter_errors, sky_localization = gw.fishermatrix.compute_network_errors(\n",
    "        network = gw.detection.Network(detector_ids = ['myET'], detection_SNR = (0., 8.), config=ConfigDet),\n",
    "        parameter_values = my_params,\n",
    "        fisher_parameters=fisher_params, \n",
    "        waveform_model = 'IMRPhenomD'\n",
    "        ) \n",
    "    \n",
    "    parameter_errors_dict = {}\n",
    "    parameter_errors_dict['snr'] = network_snr\n",
    "    for i, parameter in enumerate(fisher_params):   \n",
    "        parameter_errors_dict['err_' + parameter] = np.squeeze(parameter_errors)[i] * 1.645\n",
    "    \n",
    "    results[param_file] = parameter_errors_dict\n"
   ]
  },
  {
   "cell_type": "code",
   "execution_count": 5,
   "metadata": {},
   "outputs": [
    {
     "name": "stdout",
     "output_type": "stream",
     "text": [
      "For 5plus10 injections:\n",
      "ra 0.2926\n",
      "dec 0.1893\n",
      "psi 0.2968\n",
      "theta_jn 0.1181\n",
      "luminosity_distance 390.2618\n",
      "mass_1_source 0.3456\n",
      "mass_2_source 0.1511\n",
      "\n",
      "\n",
      "For 15plus30 injections:\n",
      "ra 0.0039\n",
      "dec 0.0037\n",
      "psi 0.0151\n",
      "theta_jn 0.039\n",
      "luminosity_distance 36.5851\n",
      "mass_1_source 0.4551\n",
      "mass_2_source 0.2008\n",
      "\n",
      "\n",
      "For 30plus60 injections:\n",
      "ra 0.6863\n",
      "dec 0.6381\n",
      "psi 0.4459\n",
      "theta_jn 0.0048\n",
      "luminosity_distance 5.7474\n",
      "mass_1_source 0.1268\n",
      "mass_2_source 0.0562\n",
      "\n",
      "\n",
      "For 30plus60_with_5plus10 injections:\n",
      "ra 1.6932\n",
      "dec 1.5791\n",
      "psi 1.0967\n",
      "theta_jn 0.0128\n",
      "luminosity_distance 14.1601\n",
      "mass_1_source 0.1063\n",
      "mass_2_source 0.0465\n",
      "\n",
      "\n"
     ]
    }
   ],
   "source": [
    "for param_file in param_files:\n",
    "    print('For ' + param_file + ' injections:')\n",
    "    for i, parameter in enumerate(fisher_params):   \n",
    "        print(parameter, np.round(results[param_file]['err_' + parameter], 4))\n",
    "    print('\\n')"
   ]
  },
  {
   "cell_type": "code",
   "execution_count": null,
   "metadata": {},
   "outputs": [],
   "source": []
  }
 ],
 "metadata": {
  "kernelspec": {
   "display_name": "Python 3 (ipykernel)",
   "language": "python",
   "name": "python3"
  },
  "language_info": {
   "codemirror_mode": {
    "name": "ipython",
    "version": 3
   },
   "file_extension": ".py",
   "mimetype": "text/x-python",
   "name": "python",
   "nbconvert_exporter": "python",
   "pygments_lexer": "ipython3",
   "version": "3.9.19"
  }
 },
 "nbformat": 4,
 "nbformat_minor": 4
}
